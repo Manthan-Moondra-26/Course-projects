{
  "nbformat": 4,
  "nbformat_minor": 0,
  "metadata": {
    "colab": {
      "provenance": [],
      "authorship_tag": "ABX9TyP6V8BTPdudQSO1U4sgiPkL",
      "include_colab_link": true
    },
    "kernelspec": {
      "name": "python3",
      "display_name": "Python 3"
    },
    "language_info": {
      "name": "python"
    }
  },
  "cells": [
    {
      "cell_type": "markdown",
      "metadata": {
        "id": "view-in-github",
        "colab_type": "text"
      },
      "source": [
        "<a href=\"https://colab.research.google.com/github/Manthan-Moondra-26/Course-projects/blob/main/Image_Scrapper.ipynb\" target=\"_parent\"><img src=\"https://colab.research.google.com/assets/colab-badge.svg\" alt=\"Open In Colab\"/></a>"
      ]
    },
    {
      "cell_type": "code",
      "execution_count": 1,
      "metadata": {
        "colab": {
          "base_uri": "https://localhost:8080/"
        },
        "id": "H5wP-aCUrzQE",
        "outputId": "39a6612c-3f27-45ba-a258-d2b3287e048a"
      },
      "outputs": [
        {
          "output_type": "stream",
          "name": "stdout",
          "text": [
            "0 images downloaded successfully into 'puppies' folder.\n"
          ]
        }
      ],
      "source": [
        "import os\n",
        "import requests\n",
        "from bs4 import BeautifulSoup\n",
        "\n",
        "# Keyword for search\n",
        "keyword = \"puppies\"\n",
        "url = f\"https://unsplash.com/s/photos/{keyword}\"\n",
        "\n",
        "# Create folder for saving images\n",
        "if not os.path.exists(keyword):\n",
        "    os.makedirs(keyword)\n",
        "\n",
        "# Get HTML content\n",
        "response = requests.get(url)\n",
        "soup = BeautifulSoup(response.text, \"html.parser\")\n",
        "\n",
        "# Find image tags\n",
        "img_tags = soup.find_all(\"img\")\n",
        "\n",
        "count = 0\n",
        "for img in img_tags:\n",
        "    img_url = img.get(\"src\")\n",
        "    if img_url and img_url.startswith(\"http\"):\n",
        "        img_data = requests.get(img_url).content\n",
        "        img_name = os.path.join(keyword, f\"{keyword}_{count+1}.jpg\")\n",
        "        with open(img_name, \"wb\") as f:\n",
        "            f.write(img_data)\n",
        "        count += 1\n",
        "        if count >= 10:  # Limit to 10 images for demo\n",
        "            break\n",
        "\n",
        "print(f\"{count} images downloaded successfully into '{keyword}' folder.\")\n"
      ]
    },
    {
      "cell_type": "code",
      "source": [],
      "metadata": {
        "id": "XWNqWgBkr0tP"
      },
      "execution_count": null,
      "outputs": []
    }
  ]
}